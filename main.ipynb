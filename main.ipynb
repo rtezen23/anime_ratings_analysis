{
 "cells": [
  {
   "cell_type": "markdown",
   "id": "858932f5",
   "metadata": {},
   "source": [
    "# Anime Recommendations Dataset"
   ]
  },
  {
   "cell_type": "code",
   "execution_count": 4,
   "id": "737cdbfd",
   "metadata": {},
   "outputs": [],
   "source": [
    "import pandas as pd\n",
    "import numpy as np\n",
    "import matplotlib.pyplot as plt\n",
    "import seaborn as sns"
   ]
  },
  {
   "cell_type": "markdown",
   "id": "218c3094",
   "metadata": {},
   "source": [
    "## Basic Exploration"
   ]
  },
  {
   "cell_type": "code",
   "execution_count": 5,
   "id": "9d5d028e",
   "metadata": {},
   "outputs": [],
   "source": [
    "anime_df = pd.read_csv('./data/anime.csv')\n",
    "rating_df = pd.read_csv('./data/rating.csv')"
   ]
  },
  {
   "cell_type": "code",
   "execution_count": 6,
   "id": "cce127e6",
   "metadata": {},
   "outputs": [
    {
     "data": {
      "application/vnd.microsoft.datawrangler.viewer.v0+json": {
       "columns": [
        {
         "name": "index",
         "rawType": "int64",
         "type": "integer"
        },
        {
         "name": "anime_id",
         "rawType": "int64",
         "type": "integer"
        },
        {
         "name": "name",
         "rawType": "object",
         "type": "string"
        },
        {
         "name": "genre",
         "rawType": "object",
         "type": "string"
        },
        {
         "name": "type",
         "rawType": "object",
         "type": "string"
        },
        {
         "name": "episodes",
         "rawType": "object",
         "type": "string"
        },
        {
         "name": "rating",
         "rawType": "float64",
         "type": "float"
        },
        {
         "name": "members",
         "rawType": "int64",
         "type": "integer"
        }
       ],
       "conversionMethod": "pd.DataFrame",
       "ref": "3c112e92-f70c-4710-a63c-a23a09b2c3a7",
       "rows": [
        [
         "0",
         "32281",
         "Kimi no Na wa.",
         "Drama, Romance, School, Supernatural",
         "Movie",
         "1",
         "9.37",
         "200630"
        ],
        [
         "1",
         "5114",
         "Fullmetal Alchemist: Brotherhood",
         "Action, Adventure, Drama, Fantasy, Magic, Military, Shounen",
         "TV",
         "64",
         "9.26",
         "793665"
        ],
        [
         "2",
         "28977",
         "Gintama°",
         "Action, Comedy, Historical, Parody, Samurai, Sci-Fi, Shounen",
         "TV",
         "51",
         "9.25",
         "114262"
        ],
        [
         "3",
         "9253",
         "Steins;Gate",
         "Sci-Fi, Thriller",
         "TV",
         "24",
         "9.17",
         "673572"
        ],
        [
         "4",
         "9969",
         "Gintama&#039;",
         "Action, Comedy, Historical, Parody, Samurai, Sci-Fi, Shounen",
         "TV",
         "51",
         "9.16",
         "151266"
        ]
       ],
       "shape": {
        "columns": 7,
        "rows": 5
       }
      },
      "text/html": [
       "<div>\n",
       "<style scoped>\n",
       "    .dataframe tbody tr th:only-of-type {\n",
       "        vertical-align: middle;\n",
       "    }\n",
       "\n",
       "    .dataframe tbody tr th {\n",
       "        vertical-align: top;\n",
       "    }\n",
       "\n",
       "    .dataframe thead th {\n",
       "        text-align: right;\n",
       "    }\n",
       "</style>\n",
       "<table border=\"1\" class=\"dataframe\">\n",
       "  <thead>\n",
       "    <tr style=\"text-align: right;\">\n",
       "      <th></th>\n",
       "      <th>anime_id</th>\n",
       "      <th>name</th>\n",
       "      <th>genre</th>\n",
       "      <th>type</th>\n",
       "      <th>episodes</th>\n",
       "      <th>rating</th>\n",
       "      <th>members</th>\n",
       "    </tr>\n",
       "  </thead>\n",
       "  <tbody>\n",
       "    <tr>\n",
       "      <th>0</th>\n",
       "      <td>32281</td>\n",
       "      <td>Kimi no Na wa.</td>\n",
       "      <td>Drama, Romance, School, Supernatural</td>\n",
       "      <td>Movie</td>\n",
       "      <td>1</td>\n",
       "      <td>9.37</td>\n",
       "      <td>200630</td>\n",
       "    </tr>\n",
       "    <tr>\n",
       "      <th>1</th>\n",
       "      <td>5114</td>\n",
       "      <td>Fullmetal Alchemist: Brotherhood</td>\n",
       "      <td>Action, Adventure, Drama, Fantasy, Magic, Mili...</td>\n",
       "      <td>TV</td>\n",
       "      <td>64</td>\n",
       "      <td>9.26</td>\n",
       "      <td>793665</td>\n",
       "    </tr>\n",
       "    <tr>\n",
       "      <th>2</th>\n",
       "      <td>28977</td>\n",
       "      <td>Gintama°</td>\n",
       "      <td>Action, Comedy, Historical, Parody, Samurai, S...</td>\n",
       "      <td>TV</td>\n",
       "      <td>51</td>\n",
       "      <td>9.25</td>\n",
       "      <td>114262</td>\n",
       "    </tr>\n",
       "    <tr>\n",
       "      <th>3</th>\n",
       "      <td>9253</td>\n",
       "      <td>Steins;Gate</td>\n",
       "      <td>Sci-Fi, Thriller</td>\n",
       "      <td>TV</td>\n",
       "      <td>24</td>\n",
       "      <td>9.17</td>\n",
       "      <td>673572</td>\n",
       "    </tr>\n",
       "    <tr>\n",
       "      <th>4</th>\n",
       "      <td>9969</td>\n",
       "      <td>Gintama&amp;#039;</td>\n",
       "      <td>Action, Comedy, Historical, Parody, Samurai, S...</td>\n",
       "      <td>TV</td>\n",
       "      <td>51</td>\n",
       "      <td>9.16</td>\n",
       "      <td>151266</td>\n",
       "    </tr>\n",
       "  </tbody>\n",
       "</table>\n",
       "</div>"
      ],
      "text/plain": [
       "   anime_id                              name  \\\n",
       "0     32281                    Kimi no Na wa.   \n",
       "1      5114  Fullmetal Alchemist: Brotherhood   \n",
       "2     28977                          Gintama°   \n",
       "3      9253                       Steins;Gate   \n",
       "4      9969                     Gintama&#039;   \n",
       "\n",
       "                                               genre   type episodes  rating  \\\n",
       "0               Drama, Romance, School, Supernatural  Movie        1    9.37   \n",
       "1  Action, Adventure, Drama, Fantasy, Magic, Mili...     TV       64    9.26   \n",
       "2  Action, Comedy, Historical, Parody, Samurai, S...     TV       51    9.25   \n",
       "3                                   Sci-Fi, Thriller     TV       24    9.17   \n",
       "4  Action, Comedy, Historical, Parody, Samurai, S...     TV       51    9.16   \n",
       "\n",
       "   members  \n",
       "0   200630  \n",
       "1   793665  \n",
       "2   114262  \n",
       "3   673572  \n",
       "4   151266  "
      ]
     },
     "execution_count": 6,
     "metadata": {},
     "output_type": "execute_result"
    }
   ],
   "source": [
    "anime_df.head()"
   ]
  },
  {
   "cell_type": "code",
   "execution_count": 8,
   "id": "c8513224",
   "metadata": {},
   "outputs": [
    {
     "name": "stdout",
     "output_type": "stream",
     "text": [
      "<class 'pandas.core.frame.DataFrame'>\n",
      "RangeIndex: 12294 entries, 0 to 12293\n",
      "Data columns (total 7 columns):\n",
      " #   Column    Non-Null Count  Dtype  \n",
      "---  ------    --------------  -----  \n",
      " 0   anime_id  12294 non-null  int64  \n",
      " 1   name      12294 non-null  object \n",
      " 2   genre     12232 non-null  object \n",
      " 3   type      12269 non-null  object \n",
      " 4   episodes  12294 non-null  object \n",
      " 5   rating    12064 non-null  float64\n",
      " 6   members   12294 non-null  int64  \n",
      "dtypes: float64(1), int64(2), object(4)\n",
      "memory usage: 672.5+ KB\n"
     ]
    }
   ],
   "source": [
    "anime_df.info()"
   ]
  },
  {
   "cell_type": "code",
   "execution_count": 10,
   "id": "8448c07d",
   "metadata": {},
   "outputs": [
    {
     "data": {
      "text/plain": [
       "array(['1', '64', '51', '24', '10', '148', '110', '13', '201', '25', '22',\n",
       "       '75', '4', '26', '12', '27', '43', '74', '37', '2', '11', '99',\n",
       "       'Unknown', '39', '101', '47', '50', '62', '33', '112', '23', '3',\n",
       "       '94', '6', '8', '14', '7', '40', '15', '203', '77', '291', '120',\n",
       "       '102', '96', '38', '79', '175', '103', '70', '153', '45', '5',\n",
       "       '21', '63', '52', '28', '145', '36', '69', '60', '178', '114',\n",
       "       '35', '61', '34', '109', '20', '9', '49', '366', '97', '48', '78',\n",
       "       '358', '155', '104', '113', '54', '167', '161', '42', '142', '31',\n",
       "       '373', '220', '46', '195', '17', '1787', '73', '147', '127', '16',\n",
       "       '19', '98', '150', '76', '53', '124', '29', '115', '224', '44',\n",
       "       '58', '93', '154', '92', '67', '172', '86', '30', '276', '59',\n",
       "       '72', '330', '41', '105', '128', '137', '56', '55', '65', '243',\n",
       "       '193', '18', '191', '180', '91', '192', '66', '182', '32', '164',\n",
       "       '100', '296', '694', '95', '68', '117', '151', '130', '87', '170',\n",
       "       '119', '84', '108', '156', '140', '331', '305', '300', '510',\n",
       "       '200', '88', '1471', '526', '143', '726', '136', '1818', '237',\n",
       "       '1428', '365', '163', '283', '71', '260', '199', '225', '312',\n",
       "       '240', '1306', '1565', '773', '1274', '90', '475', '263', '83',\n",
       "       '85', '1006', '80', '162', '132', '141', '125'], dtype=object)"
      ]
     },
     "execution_count": 10,
     "metadata": {},
     "output_type": "execute_result"
    }
   ],
   "source": [
    "anime_df['episodes'].unique()"
   ]
  },
  {
   "cell_type": "code",
   "execution_count": 11,
   "id": "cf3f2fe6",
   "metadata": {},
   "outputs": [
    {
     "data": {
      "application/vnd.microsoft.datawrangler.viewer.v0+json": {
       "columns": [
        {
         "name": "index",
         "rawType": "object",
         "type": "string"
        },
        {
         "name": "anime_id",
         "rawType": "float64",
         "type": "float"
        },
        {
         "name": "rating",
         "rawType": "float64",
         "type": "float"
        },
        {
         "name": "members",
         "rawType": "float64",
         "type": "float"
        }
       ],
       "conversionMethod": "pd.DataFrame",
       "ref": "efbc04dc-619b-4f10-a1d5-7139b3bbff62",
       "rows": [
        [
         "count",
         "12294.0",
         "12064.0",
         "12294.0"
        ],
        [
         "mean",
         "14058.221652838783",
         "6.473901690981432",
         "18071.33886448674"
        ],
        [
         "std",
         "11455.294700988192",
         "1.0267463068980598",
         "54820.676924907515"
        ],
        [
         "min",
         "1.0",
         "1.67",
         "5.0"
        ],
        [
         "25%",
         "3484.25",
         "5.88",
         "225.0"
        ],
        [
         "50%",
         "10260.5",
         "6.57",
         "1550.0"
        ],
        [
         "75%",
         "24794.5",
         "7.18",
         "9437.0"
        ],
        [
         "max",
         "34527.0",
         "10.0",
         "1013917.0"
        ]
       ],
       "shape": {
        "columns": 3,
        "rows": 8
       }
      },
      "text/html": [
       "<div>\n",
       "<style scoped>\n",
       "    .dataframe tbody tr th:only-of-type {\n",
       "        vertical-align: middle;\n",
       "    }\n",
       "\n",
       "    .dataframe tbody tr th {\n",
       "        vertical-align: top;\n",
       "    }\n",
       "\n",
       "    .dataframe thead th {\n",
       "        text-align: right;\n",
       "    }\n",
       "</style>\n",
       "<table border=\"1\" class=\"dataframe\">\n",
       "  <thead>\n",
       "    <tr style=\"text-align: right;\">\n",
       "      <th></th>\n",
       "      <th>anime_id</th>\n",
       "      <th>rating</th>\n",
       "      <th>members</th>\n",
       "    </tr>\n",
       "  </thead>\n",
       "  <tbody>\n",
       "    <tr>\n",
       "      <th>count</th>\n",
       "      <td>12294.000000</td>\n",
       "      <td>12064.000000</td>\n",
       "      <td>1.229400e+04</td>\n",
       "    </tr>\n",
       "    <tr>\n",
       "      <th>mean</th>\n",
       "      <td>14058.221653</td>\n",
       "      <td>6.473902</td>\n",
       "      <td>1.807134e+04</td>\n",
       "    </tr>\n",
       "    <tr>\n",
       "      <th>std</th>\n",
       "      <td>11455.294701</td>\n",
       "      <td>1.026746</td>\n",
       "      <td>5.482068e+04</td>\n",
       "    </tr>\n",
       "    <tr>\n",
       "      <th>min</th>\n",
       "      <td>1.000000</td>\n",
       "      <td>1.670000</td>\n",
       "      <td>5.000000e+00</td>\n",
       "    </tr>\n",
       "    <tr>\n",
       "      <th>25%</th>\n",
       "      <td>3484.250000</td>\n",
       "      <td>5.880000</td>\n",
       "      <td>2.250000e+02</td>\n",
       "    </tr>\n",
       "    <tr>\n",
       "      <th>50%</th>\n",
       "      <td>10260.500000</td>\n",
       "      <td>6.570000</td>\n",
       "      <td>1.550000e+03</td>\n",
       "    </tr>\n",
       "    <tr>\n",
       "      <th>75%</th>\n",
       "      <td>24794.500000</td>\n",
       "      <td>7.180000</td>\n",
       "      <td>9.437000e+03</td>\n",
       "    </tr>\n",
       "    <tr>\n",
       "      <th>max</th>\n",
       "      <td>34527.000000</td>\n",
       "      <td>10.000000</td>\n",
       "      <td>1.013917e+06</td>\n",
       "    </tr>\n",
       "  </tbody>\n",
       "</table>\n",
       "</div>"
      ],
      "text/plain": [
       "           anime_id        rating       members\n",
       "count  12294.000000  12064.000000  1.229400e+04\n",
       "mean   14058.221653      6.473902  1.807134e+04\n",
       "std    11455.294701      1.026746  5.482068e+04\n",
       "min        1.000000      1.670000  5.000000e+00\n",
       "25%     3484.250000      5.880000  2.250000e+02\n",
       "50%    10260.500000      6.570000  1.550000e+03\n",
       "75%    24794.500000      7.180000  9.437000e+03\n",
       "max    34527.000000     10.000000  1.013917e+06"
      ]
     },
     "execution_count": 11,
     "metadata": {},
     "output_type": "execute_result"
    }
   ],
   "source": [
    "anime_df.describe()"
   ]
  },
  {
   "cell_type": "code",
   "execution_count": 19,
   "id": "fcc0435a",
   "metadata": {},
   "outputs": [
    {
     "data": {
      "application/vnd.microsoft.datawrangler.viewer.v0+json": {
       "columns": [
        {
         "name": "index",
         "rawType": "object",
         "type": "string"
        },
        {
         "name": "name",
         "rawType": "object",
         "type": "unknown"
        },
        {
         "name": "genre",
         "rawType": "object",
         "type": "unknown"
        },
        {
         "name": "type",
         "rawType": "object",
         "type": "unknown"
        },
        {
         "name": "episodes",
         "rawType": "object",
         "type": "unknown"
        }
       ],
       "conversionMethod": "pd.DataFrame",
       "ref": "3cacc8b4-4038-472c-913a-39e0d5fe3c04",
       "rows": [
        [
         "count",
         "12294",
         "12232",
         "12269",
         "12294"
        ],
        [
         "unique",
         "12292",
         "3264",
         "6",
         "187"
        ],
        [
         "top",
         "Saru Kani Gassen",
         "Hentai",
         "TV",
         "1"
        ],
        [
         "freq",
         "2",
         "823",
         "3787",
         "5677"
        ]
       ],
       "shape": {
        "columns": 4,
        "rows": 4
       }
      },
      "text/html": [
       "<div>\n",
       "<style scoped>\n",
       "    .dataframe tbody tr th:only-of-type {\n",
       "        vertical-align: middle;\n",
       "    }\n",
       "\n",
       "    .dataframe tbody tr th {\n",
       "        vertical-align: top;\n",
       "    }\n",
       "\n",
       "    .dataframe thead th {\n",
       "        text-align: right;\n",
       "    }\n",
       "</style>\n",
       "<table border=\"1\" class=\"dataframe\">\n",
       "  <thead>\n",
       "    <tr style=\"text-align: right;\">\n",
       "      <th></th>\n",
       "      <th>name</th>\n",
       "      <th>genre</th>\n",
       "      <th>type</th>\n",
       "      <th>episodes</th>\n",
       "    </tr>\n",
       "  </thead>\n",
       "  <tbody>\n",
       "    <tr>\n",
       "      <th>count</th>\n",
       "      <td>12294</td>\n",
       "      <td>12232</td>\n",
       "      <td>12269</td>\n",
       "      <td>12294</td>\n",
       "    </tr>\n",
       "    <tr>\n",
       "      <th>unique</th>\n",
       "      <td>12292</td>\n",
       "      <td>3264</td>\n",
       "      <td>6</td>\n",
       "      <td>187</td>\n",
       "    </tr>\n",
       "    <tr>\n",
       "      <th>top</th>\n",
       "      <td>Saru Kani Gassen</td>\n",
       "      <td>Hentai</td>\n",
       "      <td>TV</td>\n",
       "      <td>1</td>\n",
       "    </tr>\n",
       "    <tr>\n",
       "      <th>freq</th>\n",
       "      <td>2</td>\n",
       "      <td>823</td>\n",
       "      <td>3787</td>\n",
       "      <td>5677</td>\n",
       "    </tr>\n",
       "  </tbody>\n",
       "</table>\n",
       "</div>"
      ],
      "text/plain": [
       "                    name   genre   type episodes\n",
       "count              12294   12232  12269    12294\n",
       "unique             12292    3264      6      187\n",
       "top     Saru Kani Gassen  Hentai     TV        1\n",
       "freq                   2     823   3787     5677"
      ]
     },
     "execution_count": 19,
     "metadata": {},
     "output_type": "execute_result"
    }
   ],
   "source": [
    "anime_df.describe(include='object')"
   ]
  },
  {
   "cell_type": "code",
   "execution_count": 12,
   "id": "71daf526",
   "metadata": {},
   "outputs": [
    {
     "data": {
      "text/plain": [
       "(12294, 7)"
      ]
     },
     "execution_count": 12,
     "metadata": {},
     "output_type": "execute_result"
    }
   ],
   "source": [
    "anime_df.shape"
   ]
  },
  {
   "cell_type": "code",
   "execution_count": 7,
   "id": "4823afec",
   "metadata": {},
   "outputs": [
    {
     "data": {
      "application/vnd.microsoft.datawrangler.viewer.v0+json": {
       "columns": [
        {
         "name": "index",
         "rawType": "int64",
         "type": "integer"
        },
        {
         "name": "user_id",
         "rawType": "int64",
         "type": "integer"
        },
        {
         "name": "anime_id",
         "rawType": "int64",
         "type": "integer"
        },
        {
         "name": "rating",
         "rawType": "int64",
         "type": "integer"
        }
       ],
       "conversionMethod": "pd.DataFrame",
       "ref": "0691f90f-ba17-4b6e-80e3-3b548876f98b",
       "rows": [
        [
         "0",
         "1",
         "20",
         "-1"
        ],
        [
         "1",
         "1",
         "24",
         "-1"
        ],
        [
         "2",
         "1",
         "79",
         "-1"
        ],
        [
         "3",
         "1",
         "226",
         "-1"
        ],
        [
         "4",
         "1",
         "241",
         "-1"
        ]
       ],
       "shape": {
        "columns": 3,
        "rows": 5
       }
      },
      "text/html": [
       "<div>\n",
       "<style scoped>\n",
       "    .dataframe tbody tr th:only-of-type {\n",
       "        vertical-align: middle;\n",
       "    }\n",
       "\n",
       "    .dataframe tbody tr th {\n",
       "        vertical-align: top;\n",
       "    }\n",
       "\n",
       "    .dataframe thead th {\n",
       "        text-align: right;\n",
       "    }\n",
       "</style>\n",
       "<table border=\"1\" class=\"dataframe\">\n",
       "  <thead>\n",
       "    <tr style=\"text-align: right;\">\n",
       "      <th></th>\n",
       "      <th>user_id</th>\n",
       "      <th>anime_id</th>\n",
       "      <th>rating</th>\n",
       "    </tr>\n",
       "  </thead>\n",
       "  <tbody>\n",
       "    <tr>\n",
       "      <th>0</th>\n",
       "      <td>1</td>\n",
       "      <td>20</td>\n",
       "      <td>-1</td>\n",
       "    </tr>\n",
       "    <tr>\n",
       "      <th>1</th>\n",
       "      <td>1</td>\n",
       "      <td>24</td>\n",
       "      <td>-1</td>\n",
       "    </tr>\n",
       "    <tr>\n",
       "      <th>2</th>\n",
       "      <td>1</td>\n",
       "      <td>79</td>\n",
       "      <td>-1</td>\n",
       "    </tr>\n",
       "    <tr>\n",
       "      <th>3</th>\n",
       "      <td>1</td>\n",
       "      <td>226</td>\n",
       "      <td>-1</td>\n",
       "    </tr>\n",
       "    <tr>\n",
       "      <th>4</th>\n",
       "      <td>1</td>\n",
       "      <td>241</td>\n",
       "      <td>-1</td>\n",
       "    </tr>\n",
       "  </tbody>\n",
       "</table>\n",
       "</div>"
      ],
      "text/plain": [
       "   user_id  anime_id  rating\n",
       "0        1        20      -1\n",
       "1        1        24      -1\n",
       "2        1        79      -1\n",
       "3        1       226      -1\n",
       "4        1       241      -1"
      ]
     },
     "execution_count": 7,
     "metadata": {},
     "output_type": "execute_result"
    }
   ],
   "source": [
    "rating_df.head()"
   ]
  },
  {
   "cell_type": "code",
   "execution_count": 14,
   "id": "448f8769",
   "metadata": {},
   "outputs": [
    {
     "name": "stdout",
     "output_type": "stream",
     "text": [
      "<class 'pandas.core.frame.DataFrame'>\n",
      "RangeIndex: 7813737 entries, 0 to 7813736\n",
      "Data columns (total 3 columns):\n",
      " #   Column    Dtype\n",
      "---  ------    -----\n",
      " 0   user_id   int64\n",
      " 1   anime_id  int64\n",
      " 2   rating    int64\n",
      "dtypes: int64(3)\n",
      "memory usage: 178.8 MB\n"
     ]
    }
   ],
   "source": [
    "rating_df.info()"
   ]
  },
  {
   "cell_type": "code",
   "execution_count": 15,
   "id": "14d8acde",
   "metadata": {},
   "outputs": [
    {
     "data": {
      "application/vnd.microsoft.datawrangler.viewer.v0+json": {
       "columns": [
        {
         "name": "index",
         "rawType": "object",
         "type": "string"
        },
        {
         "name": "user_id",
         "rawType": "float64",
         "type": "float"
        },
        {
         "name": "anime_id",
         "rawType": "float64",
         "type": "float"
        },
        {
         "name": "rating",
         "rawType": "float64",
         "type": "float"
        }
       ],
       "conversionMethod": "pd.DataFrame",
       "ref": "0c34897c-45ba-4f2f-93c3-8b3ef28ad744",
       "rows": [
        [
         "count",
         "7813737.0",
         "7813737.0",
         "7813737.0"
        ],
        [
         "mean",
         "36727.956744640884",
         "8909.072104295294",
         "6.144029546937656"
        ],
        [
         "std",
         "20997.946118973556",
         "8883.949635866427",
         "3.7278004200545007"
        ],
        [
         "min",
         "1.0",
         "1.0",
         "-1.0"
        ],
        [
         "25%",
         "18974.0",
         "1240.0",
         "6.0"
        ],
        [
         "50%",
         "36791.0",
         "6213.0",
         "7.0"
        ],
        [
         "75%",
         "54757.0",
         "14093.0",
         "9.0"
        ],
        [
         "max",
         "73516.0",
         "34519.0",
         "10.0"
        ]
       ],
       "shape": {
        "columns": 3,
        "rows": 8
       }
      },
      "text/html": [
       "<div>\n",
       "<style scoped>\n",
       "    .dataframe tbody tr th:only-of-type {\n",
       "        vertical-align: middle;\n",
       "    }\n",
       "\n",
       "    .dataframe tbody tr th {\n",
       "        vertical-align: top;\n",
       "    }\n",
       "\n",
       "    .dataframe thead th {\n",
       "        text-align: right;\n",
       "    }\n",
       "</style>\n",
       "<table border=\"1\" class=\"dataframe\">\n",
       "  <thead>\n",
       "    <tr style=\"text-align: right;\">\n",
       "      <th></th>\n",
       "      <th>user_id</th>\n",
       "      <th>anime_id</th>\n",
       "      <th>rating</th>\n",
       "    </tr>\n",
       "  </thead>\n",
       "  <tbody>\n",
       "    <tr>\n",
       "      <th>count</th>\n",
       "      <td>7.813737e+06</td>\n",
       "      <td>7.813737e+06</td>\n",
       "      <td>7.813737e+06</td>\n",
       "    </tr>\n",
       "    <tr>\n",
       "      <th>mean</th>\n",
       "      <td>3.672796e+04</td>\n",
       "      <td>8.909072e+03</td>\n",
       "      <td>6.144030e+00</td>\n",
       "    </tr>\n",
       "    <tr>\n",
       "      <th>std</th>\n",
       "      <td>2.099795e+04</td>\n",
       "      <td>8.883950e+03</td>\n",
       "      <td>3.727800e+00</td>\n",
       "    </tr>\n",
       "    <tr>\n",
       "      <th>min</th>\n",
       "      <td>1.000000e+00</td>\n",
       "      <td>1.000000e+00</td>\n",
       "      <td>-1.000000e+00</td>\n",
       "    </tr>\n",
       "    <tr>\n",
       "      <th>25%</th>\n",
       "      <td>1.897400e+04</td>\n",
       "      <td>1.240000e+03</td>\n",
       "      <td>6.000000e+00</td>\n",
       "    </tr>\n",
       "    <tr>\n",
       "      <th>50%</th>\n",
       "      <td>3.679100e+04</td>\n",
       "      <td>6.213000e+03</td>\n",
       "      <td>7.000000e+00</td>\n",
       "    </tr>\n",
       "    <tr>\n",
       "      <th>75%</th>\n",
       "      <td>5.475700e+04</td>\n",
       "      <td>1.409300e+04</td>\n",
       "      <td>9.000000e+00</td>\n",
       "    </tr>\n",
       "    <tr>\n",
       "      <th>max</th>\n",
       "      <td>7.351600e+04</td>\n",
       "      <td>3.451900e+04</td>\n",
       "      <td>1.000000e+01</td>\n",
       "    </tr>\n",
       "  </tbody>\n",
       "</table>\n",
       "</div>"
      ],
      "text/plain": [
       "            user_id      anime_id        rating\n",
       "count  7.813737e+06  7.813737e+06  7.813737e+06\n",
       "mean   3.672796e+04  8.909072e+03  6.144030e+00\n",
       "std    2.099795e+04  8.883950e+03  3.727800e+00\n",
       "min    1.000000e+00  1.000000e+00 -1.000000e+00\n",
       "25%    1.897400e+04  1.240000e+03  6.000000e+00\n",
       "50%    3.679100e+04  6.213000e+03  7.000000e+00\n",
       "75%    5.475700e+04  1.409300e+04  9.000000e+00\n",
       "max    7.351600e+04  3.451900e+04  1.000000e+01"
      ]
     },
     "execution_count": 15,
     "metadata": {},
     "output_type": "execute_result"
    }
   ],
   "source": [
    "rating_df.describe()"
   ]
  },
  {
   "cell_type": "code",
   "execution_count": 16,
   "id": "ba22c4aa",
   "metadata": {},
   "outputs": [
    {
     "data": {
      "text/plain": [
       "(7813737, 3)"
      ]
     },
     "execution_count": 16,
     "metadata": {},
     "output_type": "execute_result"
    }
   ],
   "source": [
    "rating_df.shape"
   ]
  },
  {
   "cell_type": "markdown",
   "id": "d425247c",
   "metadata": {},
   "source": [
    "## Handling null values"
   ]
  },
  {
   "cell_type": "code",
   "execution_count": 25,
   "id": "c0df00ad",
   "metadata": {},
   "outputs": [
    {
     "data": {
      "text/plain": [
       "anime_id      0\n",
       "name          0\n",
       "genre        62\n",
       "type         25\n",
       "episodes      0\n",
       "rating      230\n",
       "members       0\n",
       "dtype: int64"
      ]
     },
     "execution_count": 25,
     "metadata": {},
     "output_type": "execute_result"
    }
   ],
   "source": [
    "anime_df.isna().sum()"
   ]
  },
  {
   "cell_type": "code",
   "execution_count": 29,
   "id": "360436d5",
   "metadata": {},
   "outputs": [
    {
     "data": {
      "text/plain": [
       "(12294, 7)"
      ]
     },
     "execution_count": 29,
     "metadata": {},
     "output_type": "execute_result"
    }
   ],
   "source": [
    "anime_df.shape"
   ]
  },
  {
   "cell_type": "code",
   "execution_count": 31,
   "id": "a427cd6a",
   "metadata": {},
   "outputs": [],
   "source": [
    "anime_df = anime_df.dropna()"
   ]
  },
  {
   "cell_type": "code",
   "execution_count": 32,
   "id": "1a6e55c6",
   "metadata": {},
   "outputs": [
    {
     "data": {
      "text/plain": [
       "(12017, 7)"
      ]
     },
     "execution_count": 32,
     "metadata": {},
     "output_type": "execute_result"
    }
   ],
   "source": [
    "anime_df.shape"
   ]
  },
  {
   "cell_type": "code",
   "execution_count": 34,
   "id": "084aa799",
   "metadata": {},
   "outputs": [
    {
     "data": {
      "text/plain": [
       "user_id     0\n",
       "anime_id    0\n",
       "rating      0\n",
       "dtype: int64"
      ]
     },
     "execution_count": 34,
     "metadata": {},
     "output_type": "execute_result"
    }
   ],
   "source": [
    "rating_df.isna().sum()"
   ]
  },
  {
   "cell_type": "markdown",
   "id": "84f0336c",
   "metadata": {},
   "source": [
    "## Duplicates"
   ]
  },
  {
   "cell_type": "code",
   "execution_count": 39,
   "id": "e6869d44",
   "metadata": {},
   "outputs": [
    {
     "data": {
      "text/plain": [
       "0"
      ]
     },
     "execution_count": 39,
     "metadata": {},
     "output_type": "execute_result"
    }
   ],
   "source": [
    "anime_df[anime_df.duplicated()].shape[0]"
   ]
  },
  {
   "cell_type": "code",
   "execution_count": 40,
   "id": "df0018a3",
   "metadata": {},
   "outputs": [
    {
     "data": {
      "text/plain": [
       "1"
      ]
     },
     "execution_count": 40,
     "metadata": {},
     "output_type": "execute_result"
    }
   ],
   "source": [
    "rating_df[rating_df.duplicated()].shape[0]"
   ]
  },
  {
   "cell_type": "code",
   "execution_count": 42,
   "id": "4e63237c",
   "metadata": {},
   "outputs": [],
   "source": [
    "rating_df = rating_df.drop_duplicates(keep='first')"
   ]
  },
  {
   "cell_type": "markdown",
   "id": "3198674b",
   "metadata": {},
   "source": [
    "## Merging datasets"
   ]
  },
  {
   "cell_type": "code",
   "execution_count": 44,
   "id": "6d072c23",
   "metadata": {},
   "outputs": [
    {
     "data": {
      "text/plain": [
       "(12017, 7)"
      ]
     },
     "execution_count": 44,
     "metadata": {},
     "output_type": "execute_result"
    }
   ],
   "source": [
    "anime_df.shape"
   ]
  },
  {
   "cell_type": "code",
   "execution_count": 45,
   "id": "8a9b3f5b",
   "metadata": {},
   "outputs": [
    {
     "data": {
      "text/plain": [
       "(7813736, 3)"
      ]
     },
     "execution_count": 45,
     "metadata": {},
     "output_type": "execute_result"
    }
   ],
   "source": [
    "rating_df.shape"
   ]
  },
  {
   "cell_type": "code",
   "execution_count": 46,
   "id": "25342931",
   "metadata": {},
   "outputs": [
    {
     "data": {
      "application/vnd.microsoft.datawrangler.viewer.v0+json": {
       "columns": [
        {
         "name": "index",
         "rawType": "int64",
         "type": "integer"
        },
        {
         "name": "user_id",
         "rawType": "int64",
         "type": "integer"
        },
        {
         "name": "anime_id",
         "rawType": "int64",
         "type": "integer"
        },
        {
         "name": "rating",
         "rawType": "int64",
         "type": "integer"
        }
       ],
       "conversionMethod": "pd.DataFrame",
       "ref": "7d056e0e-e06f-446f-82c9-d332aad75f73",
       "rows": [
        [
         "0",
         "1",
         "20",
         "-1"
        ],
        [
         "1",
         "1",
         "24",
         "-1"
        ],
        [
         "2",
         "1",
         "79",
         "-1"
        ],
        [
         "3",
         "1",
         "226",
         "-1"
        ],
        [
         "4",
         "1",
         "241",
         "-1"
        ]
       ],
       "shape": {
        "columns": 3,
        "rows": 5
       }
      },
      "text/html": [
       "<div>\n",
       "<style scoped>\n",
       "    .dataframe tbody tr th:only-of-type {\n",
       "        vertical-align: middle;\n",
       "    }\n",
       "\n",
       "    .dataframe tbody tr th {\n",
       "        vertical-align: top;\n",
       "    }\n",
       "\n",
       "    .dataframe thead th {\n",
       "        text-align: right;\n",
       "    }\n",
       "</style>\n",
       "<table border=\"1\" class=\"dataframe\">\n",
       "  <thead>\n",
       "    <tr style=\"text-align: right;\">\n",
       "      <th></th>\n",
       "      <th>user_id</th>\n",
       "      <th>anime_id</th>\n",
       "      <th>rating</th>\n",
       "    </tr>\n",
       "  </thead>\n",
       "  <tbody>\n",
       "    <tr>\n",
       "      <th>0</th>\n",
       "      <td>1</td>\n",
       "      <td>20</td>\n",
       "      <td>-1</td>\n",
       "    </tr>\n",
       "    <tr>\n",
       "      <th>1</th>\n",
       "      <td>1</td>\n",
       "      <td>24</td>\n",
       "      <td>-1</td>\n",
       "    </tr>\n",
       "    <tr>\n",
       "      <th>2</th>\n",
       "      <td>1</td>\n",
       "      <td>79</td>\n",
       "      <td>-1</td>\n",
       "    </tr>\n",
       "    <tr>\n",
       "      <th>3</th>\n",
       "      <td>1</td>\n",
       "      <td>226</td>\n",
       "      <td>-1</td>\n",
       "    </tr>\n",
       "    <tr>\n",
       "      <th>4</th>\n",
       "      <td>1</td>\n",
       "      <td>241</td>\n",
       "      <td>-1</td>\n",
       "    </tr>\n",
       "  </tbody>\n",
       "</table>\n",
       "</div>"
      ],
      "text/plain": [
       "   user_id  anime_id  rating\n",
       "0        1        20      -1\n",
       "1        1        24      -1\n",
       "2        1        79      -1\n",
       "3        1       226      -1\n",
       "4        1       241      -1"
      ]
     },
     "execution_count": 46,
     "metadata": {},
     "output_type": "execute_result"
    }
   ],
   "source": [
    "rating_df.head()"
   ]
  },
  {
   "cell_type": "code",
   "execution_count": 49,
   "id": "6c5f21bd",
   "metadata": {},
   "outputs": [
    {
     "data": {
      "application/vnd.microsoft.datawrangler.viewer.v0+json": {
       "columns": [
        {
         "name": "index",
         "rawType": "int64",
         "type": "integer"
        },
        {
         "name": "anime_id",
         "rawType": "int64",
         "type": "integer"
        },
        {
         "name": "name",
         "rawType": "object",
         "type": "string"
        },
        {
         "name": "genre",
         "rawType": "object",
         "type": "string"
        },
        {
         "name": "type",
         "rawType": "object",
         "type": "string"
        },
        {
         "name": "episodes",
         "rawType": "object",
         "type": "string"
        },
        {
         "name": "rating",
         "rawType": "float64",
         "type": "float"
        },
        {
         "name": "members",
         "rawType": "int64",
         "type": "integer"
        },
        {
         "name": "user_id",
         "rawType": "int64",
         "type": "integer"
        },
        {
         "name": "user_rating",
         "rawType": "int64",
         "type": "integer"
        }
       ],
       "conversionMethod": "pd.DataFrame",
       "ref": "5d769c0b-4394-4436-8104-369526b10daf",
       "rows": [
        [
         "0",
         "32281",
         "Kimi no Na wa.",
         "Drama, Romance, School, Supernatural",
         "Movie",
         "1",
         "9.37",
         "200630",
         "99",
         "5"
        ],
        [
         "1",
         "32281",
         "Kimi no Na wa.",
         "Drama, Romance, School, Supernatural",
         "Movie",
         "1",
         "9.37",
         "200630",
         "152",
         "10"
        ],
        [
         "2",
         "32281",
         "Kimi no Na wa.",
         "Drama, Romance, School, Supernatural",
         "Movie",
         "1",
         "9.37",
         "200630",
         "244",
         "10"
        ],
        [
         "3",
         "32281",
         "Kimi no Na wa.",
         "Drama, Romance, School, Supernatural",
         "Movie",
         "1",
         "9.37",
         "200630",
         "271",
         "10"
        ],
        [
         "4",
         "32281",
         "Kimi no Na wa.",
         "Drama, Romance, School, Supernatural",
         "Movie",
         "1",
         "9.37",
         "200630",
         "278",
         "-1"
        ]
       ],
       "shape": {
        "columns": 9,
        "rows": 5
       }
      },
      "text/html": [
       "<div>\n",
       "<style scoped>\n",
       "    .dataframe tbody tr th:only-of-type {\n",
       "        vertical-align: middle;\n",
       "    }\n",
       "\n",
       "    .dataframe tbody tr th {\n",
       "        vertical-align: top;\n",
       "    }\n",
       "\n",
       "    .dataframe thead th {\n",
       "        text-align: right;\n",
       "    }\n",
       "</style>\n",
       "<table border=\"1\" class=\"dataframe\">\n",
       "  <thead>\n",
       "    <tr style=\"text-align: right;\">\n",
       "      <th></th>\n",
       "      <th>anime_id</th>\n",
       "      <th>name</th>\n",
       "      <th>genre</th>\n",
       "      <th>type</th>\n",
       "      <th>episodes</th>\n",
       "      <th>rating</th>\n",
       "      <th>members</th>\n",
       "      <th>user_id</th>\n",
       "      <th>user_rating</th>\n",
       "    </tr>\n",
       "  </thead>\n",
       "  <tbody>\n",
       "    <tr>\n",
       "      <th>0</th>\n",
       "      <td>32281</td>\n",
       "      <td>Kimi no Na wa.</td>\n",
       "      <td>Drama, Romance, School, Supernatural</td>\n",
       "      <td>Movie</td>\n",
       "      <td>1</td>\n",
       "      <td>9.37</td>\n",
       "      <td>200630</td>\n",
       "      <td>99</td>\n",
       "      <td>5</td>\n",
       "    </tr>\n",
       "    <tr>\n",
       "      <th>1</th>\n",
       "      <td>32281</td>\n",
       "      <td>Kimi no Na wa.</td>\n",
       "      <td>Drama, Romance, School, Supernatural</td>\n",
       "      <td>Movie</td>\n",
       "      <td>1</td>\n",
       "      <td>9.37</td>\n",
       "      <td>200630</td>\n",
       "      <td>152</td>\n",
       "      <td>10</td>\n",
       "    </tr>\n",
       "    <tr>\n",
       "      <th>2</th>\n",
       "      <td>32281</td>\n",
       "      <td>Kimi no Na wa.</td>\n",
       "      <td>Drama, Romance, School, Supernatural</td>\n",
       "      <td>Movie</td>\n",
       "      <td>1</td>\n",
       "      <td>9.37</td>\n",
       "      <td>200630</td>\n",
       "      <td>244</td>\n",
       "      <td>10</td>\n",
       "    </tr>\n",
       "    <tr>\n",
       "      <th>3</th>\n",
       "      <td>32281</td>\n",
       "      <td>Kimi no Na wa.</td>\n",
       "      <td>Drama, Romance, School, Supernatural</td>\n",
       "      <td>Movie</td>\n",
       "      <td>1</td>\n",
       "      <td>9.37</td>\n",
       "      <td>200630</td>\n",
       "      <td>271</td>\n",
       "      <td>10</td>\n",
       "    </tr>\n",
       "    <tr>\n",
       "      <th>4</th>\n",
       "      <td>32281</td>\n",
       "      <td>Kimi no Na wa.</td>\n",
       "      <td>Drama, Romance, School, Supernatural</td>\n",
       "      <td>Movie</td>\n",
       "      <td>1</td>\n",
       "      <td>9.37</td>\n",
       "      <td>200630</td>\n",
       "      <td>278</td>\n",
       "      <td>-1</td>\n",
       "    </tr>\n",
       "  </tbody>\n",
       "</table>\n",
       "</div>"
      ],
      "text/plain": [
       "   anime_id            name                                 genre   type  \\\n",
       "0     32281  Kimi no Na wa.  Drama, Romance, School, Supernatural  Movie   \n",
       "1     32281  Kimi no Na wa.  Drama, Romance, School, Supernatural  Movie   \n",
       "2     32281  Kimi no Na wa.  Drama, Romance, School, Supernatural  Movie   \n",
       "3     32281  Kimi no Na wa.  Drama, Romance, School, Supernatural  Movie   \n",
       "4     32281  Kimi no Na wa.  Drama, Romance, School, Supernatural  Movie   \n",
       "\n",
       "  episodes  rating  members  user_id  user_rating  \n",
       "0        1    9.37   200630       99            5  \n",
       "1        1    9.37   200630      152           10  \n",
       "2        1    9.37   200630      244           10  \n",
       "3        1    9.37   200630      271           10  \n",
       "4        1    9.37   200630      278           -1  "
      ]
     },
     "execution_count": 49,
     "metadata": {},
     "output_type": "execute_result"
    }
   ],
   "source": [
    "df = pd.merge(anime_df, rating_df, how='inner', on='anime_id', suffixes=[None, '_user'])\n",
    "df = df.rename(columns={\"rating_user\": \"user_rating\"})\n",
    "df.head()"
   ]
  },
  {
   "cell_type": "markdown",
   "id": "e925cf54",
   "metadata": {},
   "source": [
    "# Visualizations"
   ]
  },
  {
   "cell_type": "code",
   "execution_count": 50,
   "id": "e7f422af",
   "metadata": {},
   "outputs": [
    {
     "data": {
      "text/plain": [
       "Index(['anime_id', 'name', 'genre', 'type', 'episodes', 'rating', 'members',\n",
       "       'user_id', 'user_rating'],\n",
       "      dtype='object')"
      ]
     },
     "execution_count": 50,
     "metadata": {},
     "output_type": "execute_result"
    }
   ],
   "source": [
    "df.columns"
   ]
  },
  {
   "cell_type": "code",
   "execution_count": null,
   "id": "84c569c1",
   "metadata": {},
   "outputs": [
    {
     "data": {
      "application/vnd.microsoft.datawrangler.viewer.v0+json": {
       "columns": [
        {
         "name": "index",
         "rawType": "int64",
         "type": "integer"
        },
        {
         "name": "anime_id",
         "rawType": "int64",
         "type": "integer"
        },
        {
         "name": "name",
         "rawType": "object",
         "type": "string"
        },
        {
         "name": "genre",
         "rawType": "object",
         "type": "string"
        },
        {
         "name": "type",
         "rawType": "object",
         "type": "string"
        },
        {
         "name": "episodes",
         "rawType": "object",
         "type": "string"
        },
        {
         "name": "rating",
         "rawType": "float64",
         "type": "float"
        },
        {
         "name": "members",
         "rawType": "int64",
         "type": "integer"
        },
        {
         "name": "user_id",
         "rawType": "int64",
         "type": "integer"
        },
        {
         "name": "user_rating",
         "rawType": "int64",
         "type": "integer"
        }
       ],
       "conversionMethod": "pd.DataFrame",
       "ref": "25911367-8fe2-4a07-9101-2a2a5ef48fa9",
       "rows": [
        [
         "0",
         "32281",
         "Kimi no Na wa.",
         "Drama, Romance, School, Supernatural",
         "Movie",
         "1",
         "9.37",
         "200630",
         "99",
         "5"
        ],
        [
         "2199",
         "5114",
         "Fullmetal Alchemist: Brotherhood",
         "Action, Adventure, Drama, Fantasy, Magic, Military, Shounen",
         "TV",
         "64",
         "9.26",
         "793665",
         "3",
         "10"
        ],
        [
         "26773",
         "28977",
         "Gintama°",
         "Action, Comedy, Historical, Parody, Samurai, Sci-Fi, Shounen",
         "TV",
         "51",
         "9.25",
         "114262",
         "39",
         "-1"
        ],
        [
         "28159",
         "9253",
         "Steins;Gate",
         "Sci-Fi, Thriller",
         "TV",
         "24",
         "9.17",
         "673572",
         "5",
         "9"
        ],
        [
         "47442",
         "9969",
         "Gintama&#039;",
         "Action, Comedy, Historical, Parody, Samurai, Sci-Fi, Shounen",
         "TV",
         "51",
         "9.16",
         "151266",
         "5",
         "9"
        ]
       ],
       "shape": {
        "columns": 9,
        "rows": 5
       }
      },
      "text/html": [
       "<div>\n",
       "<style scoped>\n",
       "    .dataframe tbody tr th:only-of-type {\n",
       "        vertical-align: middle;\n",
       "    }\n",
       "\n",
       "    .dataframe tbody tr th {\n",
       "        vertical-align: top;\n",
       "    }\n",
       "\n",
       "    .dataframe thead th {\n",
       "        text-align: right;\n",
       "    }\n",
       "</style>\n",
       "<table border=\"1\" class=\"dataframe\">\n",
       "  <thead>\n",
       "    <tr style=\"text-align: right;\">\n",
       "      <th></th>\n",
       "      <th>anime_id</th>\n",
       "      <th>name</th>\n",
       "      <th>genre</th>\n",
       "      <th>type</th>\n",
       "      <th>episodes</th>\n",
       "      <th>rating</th>\n",
       "      <th>members</th>\n",
       "      <th>user_id</th>\n",
       "      <th>user_rating</th>\n",
       "    </tr>\n",
       "  </thead>\n",
       "  <tbody>\n",
       "    <tr>\n",
       "      <th>0</th>\n",
       "      <td>32281</td>\n",
       "      <td>Kimi no Na wa.</td>\n",
       "      <td>Drama, Romance, School, Supernatural</td>\n",
       "      <td>Movie</td>\n",
       "      <td>1</td>\n",
       "      <td>9.37</td>\n",
       "      <td>200630</td>\n",
       "      <td>99</td>\n",
       "      <td>5</td>\n",
       "    </tr>\n",
       "    <tr>\n",
       "      <th>2199</th>\n",
       "      <td>5114</td>\n",
       "      <td>Fullmetal Alchemist: Brotherhood</td>\n",
       "      <td>Action, Adventure, Drama, Fantasy, Magic, Mili...</td>\n",
       "      <td>TV</td>\n",
       "      <td>64</td>\n",
       "      <td>9.26</td>\n",
       "      <td>793665</td>\n",
       "      <td>3</td>\n",
       "      <td>10</td>\n",
       "    </tr>\n",
       "    <tr>\n",
       "      <th>26773</th>\n",
       "      <td>28977</td>\n",
       "      <td>Gintama°</td>\n",
       "      <td>Action, Comedy, Historical, Parody, Samurai, S...</td>\n",
       "      <td>TV</td>\n",
       "      <td>51</td>\n",
       "      <td>9.25</td>\n",
       "      <td>114262</td>\n",
       "      <td>39</td>\n",
       "      <td>-1</td>\n",
       "    </tr>\n",
       "    <tr>\n",
       "      <th>28159</th>\n",
       "      <td>9253</td>\n",
       "      <td>Steins;Gate</td>\n",
       "      <td>Sci-Fi, Thriller</td>\n",
       "      <td>TV</td>\n",
       "      <td>24</td>\n",
       "      <td>9.17</td>\n",
       "      <td>673572</td>\n",
       "      <td>5</td>\n",
       "      <td>9</td>\n",
       "    </tr>\n",
       "    <tr>\n",
       "      <th>47442</th>\n",
       "      <td>9969</td>\n",
       "      <td>Gintama&amp;#039;</td>\n",
       "      <td>Action, Comedy, Historical, Parody, Samurai, S...</td>\n",
       "      <td>TV</td>\n",
       "      <td>51</td>\n",
       "      <td>9.16</td>\n",
       "      <td>151266</td>\n",
       "      <td>5</td>\n",
       "      <td>9</td>\n",
       "    </tr>\n",
       "  </tbody>\n",
       "</table>\n",
       "</div>"
      ],
      "text/plain": [
       "       anime_id                              name  \\\n",
       "0         32281                    Kimi no Na wa.   \n",
       "2199       5114  Fullmetal Alchemist: Brotherhood   \n",
       "26773     28977                          Gintama°   \n",
       "28159      9253                       Steins;Gate   \n",
       "47442      9969                     Gintama&#039;   \n",
       "\n",
       "                                                   genre   type episodes  \\\n",
       "0                   Drama, Romance, School, Supernatural  Movie        1   \n",
       "2199   Action, Adventure, Drama, Fantasy, Magic, Mili...     TV       64   \n",
       "26773  Action, Comedy, Historical, Parody, Samurai, S...     TV       51   \n",
       "28159                                   Sci-Fi, Thriller     TV       24   \n",
       "47442  Action, Comedy, Historical, Parody, Samurai, S...     TV       51   \n",
       "\n",
       "       rating  members  user_id  user_rating  \n",
       "0        9.37   200630       99            5  \n",
       "2199     9.26   793665        3           10  \n",
       "26773    9.25   114262       39           -1  \n",
       "28159    9.17   673572        5            9  \n",
       "47442    9.16   151266        5            9  "
      ]
     },
     "execution_count": 110,
     "metadata": {},
     "output_type": "execute_result"
    }
   ],
   "source": [
    "# Drop duplicates for visualization\n",
    "df_uniques = df.copy()\n",
    "df_uniques = df_uniques.drop_duplicates(subset='name', keep='first')\n",
    "df_uniques.head()"
   ]
  },
  {
   "cell_type": "markdown",
   "id": "19377cde",
   "metadata": {},
   "source": [
    "### Top Community"
   ]
  },
  {
   "cell_type": "code",
   "execution_count": 116,
   "id": "0d8248a7",
   "metadata": {},
   "outputs": [
    {
     "data": {
      "application/vnd.microsoft.datawrangler.viewer.v0+json": {
       "columns": [
        {
         "name": "index",
         "rawType": "int64",
         "type": "integer"
        },
        {
         "name": "anime_id",
         "rawType": "int64",
         "type": "integer"
        },
        {
         "name": "name",
         "rawType": "object",
         "type": "string"
        },
        {
         "name": "genre",
         "rawType": "object",
         "type": "string"
        },
        {
         "name": "type",
         "rawType": "object",
         "type": "string"
        },
        {
         "name": "episodes",
         "rawType": "object",
         "type": "string"
        },
        {
         "name": "rating",
         "rawType": "float64",
         "type": "float"
        },
        {
         "name": "members",
         "rawType": "int64",
         "type": "integer"
        },
        {
         "name": "user_id",
         "rawType": "int64",
         "type": "integer"
        },
        {
         "name": "user_rating",
         "rawType": "int64",
         "type": "integer"
        }
       ],
       "conversionMethod": "pd.DataFrame",
       "ref": "99cec548-0998-4bef-9d6a-e769b575ad3c",
       "rows": [
        [
         "344257",
         "1535",
         "Death Note",
         "Mystery, Police, Psychological, Supernatural, Thriller",
         "TV",
         "37",
         "8.71",
         "1013917",
         "3",
         "10"
        ],
        [
         "568937",
         "16498",
         "Shingeki no Kyojin",
         "Action, Drama, Fantasy, Shounen, Super Power",
         "TV",
         "25",
         "8.54",
         "896229",
         "1",
         "-1"
        ],
        [
         "3160071",
         "11757",
         "Sword Art Online",
         "Action, Adventure, Fantasy, Game, Romance",
         "TV",
         "25",
         "7.83",
         "893100",
         "1",
         "10"
        ],
        [
         "2199",
         "5114",
         "Fullmetal Alchemist: Brotherhood",
         "Action, Adventure, Drama, Fantasy, Magic, Military, Shounen",
         "TV",
         "64",
         "9.26",
         "793665",
         "3",
         "10"
        ],
        [
         "1007976",
         "6547",
         "Angel Beats!",
         "Action, Comedy, Drama, School, Supernatural",
         "TV",
         "13",
         "8.39",
         "717796",
         "1",
         "-1"
        ],
        [
         "159820",
         "1575",
         "Code Geass: Hangyaku no Lelouch",
         "Action, Mecha, Military, School, Sci-Fi, Super Power",
         "TV",
         "25",
         "8.83",
         "715151",
         "7",
         "9"
        ],
        [
         "3277901",
         "20",
         "Naruto",
         "Action, Comedy, Martial Arts, Shounen, Super Power",
         "TV",
         "220",
         "7.81",
         "683297",
         "1",
         "-1"
        ],
        [
         "28159",
         "9253",
         "Steins;Gate",
         "Sci-Fi, Thriller",
         "TV",
         "24",
         "9.17",
         "673572",
         "5",
         "9"
        ],
        [
         "2127655",
         "10620",
         "Mirai Nikki (TV)",
         "Action, Mystery, Psychological, Shounen, Supernatural, Thriller",
         "TV",
         "26",
         "8.07",
         "657190",
         "4",
         "-1"
        ],
        [
         "856697",
         "4224",
         "Toradora!",
         "Comedy, Romance, School, Slice of Life",
         "TV",
         "25",
         "8.45",
         "633817",
         "1",
         "-1"
        ],
        [
         "2534974",
         "269",
         "Bleach",
         "Action, Comedy, Shounen, Super Power, Supernatural",
         "TV",
         "366",
         "7.95",
         "624055",
         "5",
         "3"
        ],
        [
         "3023034",
         "226",
         "Elfen Lied",
         "Action, Drama, Horror, Psychological, Romance, Seinen, Supernatural",
         "TV",
         "13",
         "7.85",
         "623511",
         "1",
         "-1"
        ],
        [
         "2150835",
         "22319",
         "Tokyo Ghoul",
         "Action, Drama, Horror, Mystery, Psychological, Seinen, Supernatural",
         "TV",
         "12",
         "8.07",
         "618056",
         "1",
         "-1"
        ],
        [
         "775380",
         "19815",
         "No Game No Life",
         "Adventure, Comedy, Ecchi, Fantasy, Game, Supernatural",
         "TV",
         "12",
         "8.47",
         "602291",
         "1",
         "-1"
        ]
       ],
       "shape": {
        "columns": 9,
        "rows": 14
       }
      },
      "text/html": [
       "<div>\n",
       "<style scoped>\n",
       "    .dataframe tbody tr th:only-of-type {\n",
       "        vertical-align: middle;\n",
       "    }\n",
       "\n",
       "    .dataframe tbody tr th {\n",
       "        vertical-align: top;\n",
       "    }\n",
       "\n",
       "    .dataframe thead th {\n",
       "        text-align: right;\n",
       "    }\n",
       "</style>\n",
       "<table border=\"1\" class=\"dataframe\">\n",
       "  <thead>\n",
       "    <tr style=\"text-align: right;\">\n",
       "      <th></th>\n",
       "      <th>anime_id</th>\n",
       "      <th>name</th>\n",
       "      <th>genre</th>\n",
       "      <th>type</th>\n",
       "      <th>episodes</th>\n",
       "      <th>rating</th>\n",
       "      <th>members</th>\n",
       "      <th>user_id</th>\n",
       "      <th>user_rating</th>\n",
       "    </tr>\n",
       "  </thead>\n",
       "  <tbody>\n",
       "    <tr>\n",
       "      <th>344257</th>\n",
       "      <td>1535</td>\n",
       "      <td>Death Note</td>\n",
       "      <td>Mystery, Police, Psychological, Supernatural, ...</td>\n",
       "      <td>TV</td>\n",
       "      <td>37</td>\n",
       "      <td>8.71</td>\n",
       "      <td>1013917</td>\n",
       "      <td>3</td>\n",
       "      <td>10</td>\n",
       "    </tr>\n",
       "    <tr>\n",
       "      <th>568937</th>\n",
       "      <td>16498</td>\n",
       "      <td>Shingeki no Kyojin</td>\n",
       "      <td>Action, Drama, Fantasy, Shounen, Super Power</td>\n",
       "      <td>TV</td>\n",
       "      <td>25</td>\n",
       "      <td>8.54</td>\n",
       "      <td>896229</td>\n",
       "      <td>1</td>\n",
       "      <td>-1</td>\n",
       "    </tr>\n",
       "    <tr>\n",
       "      <th>3160071</th>\n",
       "      <td>11757</td>\n",
       "      <td>Sword Art Online</td>\n",
       "      <td>Action, Adventure, Fantasy, Game, Romance</td>\n",
       "      <td>TV</td>\n",
       "      <td>25</td>\n",
       "      <td>7.83</td>\n",
       "      <td>893100</td>\n",
       "      <td>1</td>\n",
       "      <td>10</td>\n",
       "    </tr>\n",
       "    <tr>\n",
       "      <th>2199</th>\n",
       "      <td>5114</td>\n",
       "      <td>Fullmetal Alchemist: Brotherhood</td>\n",
       "      <td>Action, Adventure, Drama, Fantasy, Magic, Mili...</td>\n",
       "      <td>TV</td>\n",
       "      <td>64</td>\n",
       "      <td>9.26</td>\n",
       "      <td>793665</td>\n",
       "      <td>3</td>\n",
       "      <td>10</td>\n",
       "    </tr>\n",
       "    <tr>\n",
       "      <th>1007976</th>\n",
       "      <td>6547</td>\n",
       "      <td>Angel Beats!</td>\n",
       "      <td>Action, Comedy, Drama, School, Supernatural</td>\n",
       "      <td>TV</td>\n",
       "      <td>13</td>\n",
       "      <td>8.39</td>\n",
       "      <td>717796</td>\n",
       "      <td>1</td>\n",
       "      <td>-1</td>\n",
       "    </tr>\n",
       "    <tr>\n",
       "      <th>159820</th>\n",
       "      <td>1575</td>\n",
       "      <td>Code Geass: Hangyaku no Lelouch</td>\n",
       "      <td>Action, Mecha, Military, School, Sci-Fi, Super...</td>\n",
       "      <td>TV</td>\n",
       "      <td>25</td>\n",
       "      <td>8.83</td>\n",
       "      <td>715151</td>\n",
       "      <td>7</td>\n",
       "      <td>9</td>\n",
       "    </tr>\n",
       "    <tr>\n",
       "      <th>3277901</th>\n",
       "      <td>20</td>\n",
       "      <td>Naruto</td>\n",
       "      <td>Action, Comedy, Martial Arts, Shounen, Super P...</td>\n",
       "      <td>TV</td>\n",
       "      <td>220</td>\n",
       "      <td>7.81</td>\n",
       "      <td>683297</td>\n",
       "      <td>1</td>\n",
       "      <td>-1</td>\n",
       "    </tr>\n",
       "    <tr>\n",
       "      <th>28159</th>\n",
       "      <td>9253</td>\n",
       "      <td>Steins;Gate</td>\n",
       "      <td>Sci-Fi, Thriller</td>\n",
       "      <td>TV</td>\n",
       "      <td>24</td>\n",
       "      <td>9.17</td>\n",
       "      <td>673572</td>\n",
       "      <td>5</td>\n",
       "      <td>9</td>\n",
       "    </tr>\n",
       "    <tr>\n",
       "      <th>2127655</th>\n",
       "      <td>10620</td>\n",
       "      <td>Mirai Nikki (TV)</td>\n",
       "      <td>Action, Mystery, Psychological, Shounen, Super...</td>\n",
       "      <td>TV</td>\n",
       "      <td>26</td>\n",
       "      <td>8.07</td>\n",
       "      <td>657190</td>\n",
       "      <td>4</td>\n",
       "      <td>-1</td>\n",
       "    </tr>\n",
       "    <tr>\n",
       "      <th>856697</th>\n",
       "      <td>4224</td>\n",
       "      <td>Toradora!</td>\n",
       "      <td>Comedy, Romance, School, Slice of Life</td>\n",
       "      <td>TV</td>\n",
       "      <td>25</td>\n",
       "      <td>8.45</td>\n",
       "      <td>633817</td>\n",
       "      <td>1</td>\n",
       "      <td>-1</td>\n",
       "    </tr>\n",
       "    <tr>\n",
       "      <th>2534974</th>\n",
       "      <td>269</td>\n",
       "      <td>Bleach</td>\n",
       "      <td>Action, Comedy, Shounen, Super Power, Supernat...</td>\n",
       "      <td>TV</td>\n",
       "      <td>366</td>\n",
       "      <td>7.95</td>\n",
       "      <td>624055</td>\n",
       "      <td>5</td>\n",
       "      <td>3</td>\n",
       "    </tr>\n",
       "    <tr>\n",
       "      <th>3023034</th>\n",
       "      <td>226</td>\n",
       "      <td>Elfen Lied</td>\n",
       "      <td>Action, Drama, Horror, Psychological, Romance,...</td>\n",
       "      <td>TV</td>\n",
       "      <td>13</td>\n",
       "      <td>7.85</td>\n",
       "      <td>623511</td>\n",
       "      <td>1</td>\n",
       "      <td>-1</td>\n",
       "    </tr>\n",
       "    <tr>\n",
       "      <th>2150835</th>\n",
       "      <td>22319</td>\n",
       "      <td>Tokyo Ghoul</td>\n",
       "      <td>Action, Drama, Horror, Mystery, Psychological,...</td>\n",
       "      <td>TV</td>\n",
       "      <td>12</td>\n",
       "      <td>8.07</td>\n",
       "      <td>618056</td>\n",
       "      <td>1</td>\n",
       "      <td>-1</td>\n",
       "    </tr>\n",
       "    <tr>\n",
       "      <th>775380</th>\n",
       "      <td>19815</td>\n",
       "      <td>No Game No Life</td>\n",
       "      <td>Adventure, Comedy, Ecchi, Fantasy, Game, Super...</td>\n",
       "      <td>TV</td>\n",
       "      <td>12</td>\n",
       "      <td>8.47</td>\n",
       "      <td>602291</td>\n",
       "      <td>1</td>\n",
       "      <td>-1</td>\n",
       "    </tr>\n",
       "  </tbody>\n",
       "</table>\n",
       "</div>"
      ],
      "text/plain": [
       "         anime_id                              name  \\\n",
       "344257       1535                        Death Note   \n",
       "568937      16498                Shingeki no Kyojin   \n",
       "3160071     11757                  Sword Art Online   \n",
       "2199         5114  Fullmetal Alchemist: Brotherhood   \n",
       "1007976      6547                      Angel Beats!   \n",
       "159820       1575   Code Geass: Hangyaku no Lelouch   \n",
       "3277901        20                            Naruto   \n",
       "28159        9253                       Steins;Gate   \n",
       "2127655     10620                  Mirai Nikki (TV)   \n",
       "856697       4224                         Toradora!   \n",
       "2534974       269                            Bleach   \n",
       "3023034       226                        Elfen Lied   \n",
       "2150835     22319                       Tokyo Ghoul   \n",
       "775380      19815                   No Game No Life   \n",
       "\n",
       "                                                     genre type episodes  \\\n",
       "344257   Mystery, Police, Psychological, Supernatural, ...   TV       37   \n",
       "568937        Action, Drama, Fantasy, Shounen, Super Power   TV       25   \n",
       "3160071          Action, Adventure, Fantasy, Game, Romance   TV       25   \n",
       "2199     Action, Adventure, Drama, Fantasy, Magic, Mili...   TV       64   \n",
       "1007976        Action, Comedy, Drama, School, Supernatural   TV       13   \n",
       "159820   Action, Mecha, Military, School, Sci-Fi, Super...   TV       25   \n",
       "3277901  Action, Comedy, Martial Arts, Shounen, Super P...   TV      220   \n",
       "28159                                     Sci-Fi, Thriller   TV       24   \n",
       "2127655  Action, Mystery, Psychological, Shounen, Super...   TV       26   \n",
       "856697              Comedy, Romance, School, Slice of Life   TV       25   \n",
       "2534974  Action, Comedy, Shounen, Super Power, Supernat...   TV      366   \n",
       "3023034  Action, Drama, Horror, Psychological, Romance,...   TV       13   \n",
       "2150835  Action, Drama, Horror, Mystery, Psychological,...   TV       12   \n",
       "775380   Adventure, Comedy, Ecchi, Fantasy, Game, Super...   TV       12   \n",
       "\n",
       "         rating  members  user_id  user_rating  \n",
       "344257     8.71  1013917        3           10  \n",
       "568937     8.54   896229        1           -1  \n",
       "3160071    7.83   893100        1           10  \n",
       "2199       9.26   793665        3           10  \n",
       "1007976    8.39   717796        1           -1  \n",
       "159820     8.83   715151        7            9  \n",
       "3277901    7.81   683297        1           -1  \n",
       "28159      9.17   673572        5            9  \n",
       "2127655    8.07   657190        4           -1  \n",
       "856697     8.45   633817        1           -1  \n",
       "2534974    7.95   624055        5            3  \n",
       "3023034    7.85   623511        1           -1  \n",
       "2150835    8.07   618056        1           -1  \n",
       "775380     8.47   602291        1           -1  "
      ]
     },
     "execution_count": 116,
     "metadata": {},
     "output_type": "execute_result"
    }
   ],
   "source": [
    "df_top_community = df_uniques.nlargest(14, 'members')\n",
    "df_top_community"
   ]
  },
  {
   "cell_type": "code",
   "execution_count": 123,
   "id": "074d0376",
   "metadata": {},
   "outputs": [
    {
     "data": {
      "image/png": "[encoded data removed]",
      "text/plain": [
       "<Figure size 1200x600 with 1 Axes>"
      ]
     },
     "metadata": {},
     "output_type": "display_data"
    }
   ],
   "source": [
    "plt.figure(figsize=(12,6))\n",
    "sns.barplot(data=df_top_community, x='name', y='members', width=0.6)\n",
    "\n",
    "for pos, (i, row) in enumerate(df_top_community.iterrows()):\n",
    "    plt.text(pos, row['members'] * 0.5, f\"{int(row['members']):,}\", ha='center', va='bottom', fontsize=9, rotation=90, color='#fff', fontweight='bold')\n",
    "\n",
    "plt.title('Top Anime Community', fontsize=18, fontweight='bold')\n",
    "plt.xlabel('\\nAnime name')\n",
    "plt.ylabel('Members')\n",
    "plt.xticks(rotation=90)\n",
    "plt.show()"
   ]
  },
  {
   "cell_type": "markdown",
   "id": "a9b4ec1a",
   "metadata": {},
   "source": [
    "### Categories"
   ]
  },
  {
   "cell_type": "code",
   "execution_count": 100,
   "id": "f237f828",
   "metadata": {},
   "outputs": [
    {
     "data": {
      "text/plain": [
       "Index(['anime_id', 'name', 'genre', 'type', 'episodes', 'rating', 'members',\n",
       "       'user_id', 'user_rating'],\n",
       "      dtype='object')"
      ]
     },
     "execution_count": 100,
     "metadata": {},
     "output_type": "execute_result"
    }
   ],
   "source": [
    "df.columns"
   ]
  },
  {
   "cell_type": "code",
   "execution_count": 127,
   "id": "2cc32c9b",
   "metadata": {},
   "outputs": [],
   "source": [
    "df_categories = df_uniques['type'].value_counts()"
   ]
  },
  {
   "cell_type": "code",
   "execution_count": 131,
   "id": "a888ada7",
   "metadata": {},
   "outputs": [
    {
     "data": {
      "text/plain": [
       "Index(['TV', 'OVA', 'Movie', 'Special', 'ONA', 'Music'], dtype='object', name='type')"
      ]
     },
     "execution_count": 131,
     "metadata": {},
     "output_type": "execute_result"
    }
   ],
   "source": [
    "df_categories.index"
   ]
  },
  {
   "cell_type": "code",
   "execution_count": null,
   "id": "10a7b898",
   "metadata": {},
   "outputs": [
    {
     "data": {
      "image/png": "[encoded data removed]",
      "text/plain": [
       "<Figure size 640x480 with 1 Axes>"
      ]
     },
     "metadata": {},
     "output_type": "display_data"
    }
   ],
   "source": [
    "wedges, _, autotexts = plt.pie(df_categories, autopct='%.2f%%')\n",
    "\n",
    "# Agregar la leyenda con las categorías\n",
    "plt.legend(\n",
    "    wedges,\n",
    "    df_categories.index,\n",
    "    title=\"Category\",\n",
    "    loc=\"center left\",\n",
    "    bbox_to_anchor=(1, 0.5)\n",
    ")\n",
    "\n",
    "# change percentage styles\n",
    "for autotext in autotexts:\n",
    "    autotext.set_color('#fff')\n",
    "    autotext.set_fontweight('bold')\n",
    "\n",
    "plt.title('Category Distribution')\n",
    "plt.show()"
   ]
  },
  {
   "cell_type": "markdown",
   "id": "bc801e81",
   "metadata": {},
   "source": [
    "## Animes per Category"
   ]
  },
  {
   "cell_type": "code",
   "execution_count": 154,
   "id": "ea5e805c",
   "metadata": {},
   "outputs": [
    {
     "data": {
      "text/plain": [
       "type\n",
       "TV         3402\n",
       "OVA        3090\n",
       "Movie      2111\n",
       "Special    1581\n",
       "ONA         526\n",
       "Music       451\n",
       "Name: name, dtype: int64"
      ]
     },
     "execution_count": 154,
     "metadata": {},
     "output_type": "execute_result"
    }
   ],
   "source": [
    "df_animes_per_cat = df_uniques.groupby('type')['name'].count().sort_values(ascending=False)\n",
    "df_animes_per_cat"
   ]
  },
  {
   "cell_type": "code",
   "execution_count": 186,
   "id": "0c948789",
   "metadata": {},
   "outputs": [
    {
     "data": {
      "image/png": "[encoded data removed]",
      "text/plain": [
       "<Figure size 640x480 with 1 Axes>"
      ]
     },
     "metadata": {},
     "output_type": "display_data"
    }
   ],
   "source": [
    "sns.barplot(data=df_animes_per_cat)\n",
    "\n",
    "for index in df_animes_per_cat.index:\n",
    "    plt.text(index, df_animes_per_cat[index] * 0.5, f\"{int(df_animes_per_cat[index]):,}\", ha='center', color='#fff', fontweight='bold')\n",
    "\n",
    "plt.title('Anime distribution per Category')\n",
    "plt.xlabel('\\nCategory')\n",
    "plt.ylabel('\\nAnimes')\n",
    "plt.show()"
   ]
  },
  {
   "cell_type": "markdown",
   "id": "bd6f7fa1",
   "metadata": {},
   "source": [
    "# Overall ratings"
   ]
  },
  {
   "cell_type": "code",
   "execution_count": null,
   "id": "312521e4",
   "metadata": {},
   "outputs": [],
   "source": [
    "df_uniques['rating']"
   ]
  },
  {
   "cell_type": "code",
   "execution_count": 192,
   "id": "1737e0f4",
   "metadata": {},
   "outputs": [
    {
     "data": {
      "image/png": "[encoded data removed]",
      "text/plain": [
       "<Figure size 640x480 with 1 Axes>"
      ]
     },
     "metadata": {},
     "output_type": "display_data"
    }
   ],
   "source": [
    "sns.histplot(data=df_uniques, x='rating', kde=True, bins=20)\n",
    "\n",
    "plt.title(\"Anime's average rating distribution\")\n",
    "plt.xlabel('\\nRating')\n",
    "plt.ylabel('N° of raters\\n')\n",
    "plt.show()"
   ]
  },
  {
   "cell_type": "markdown",
   "id": "897b756b",
   "metadata": {},
   "source": [
    "### User's anime ratings distribution"
   ]
  },
  {
   "cell_type": "code",
   "execution_count": 193,
   "id": "9441624a",
   "metadata": {},
   "outputs": [
    {
     "data": {
      "text/plain": [
       "Index(['anime_id', 'name', 'genre', 'type', 'episodes', 'rating', 'members',\n",
       "       'user_id', 'user_rating'],\n",
       "      dtype='object')"
      ]
     },
     "execution_count": 193,
     "metadata": {},
     "output_type": "execute_result"
    }
   ],
   "source": [
    "df.columns"
   ]
  },
  {
   "cell_type": "code",
   "execution_count": 198,
   "id": "1c5e82fb",
   "metadata": {},
   "outputs": [
    {
     "data": {
      "image/png": "[encoded data removed]",
      "text/plain": [
       "<Figure size 640x480 with 1 Axes>"
      ]
     },
     "metadata": {},
     "output_type": "display_data"
    }
   ],
   "source": [
    "sns.histplot(data=df, x='user_rating', kde=True)\n",
    "\n",
    "plt.title(\"User's anime ratings distribution\")\n",
    "plt.xlabel('\\nRating')\n",
    "plt.ylabel('N° of raters\\n')\n",
    "plt.show()"
   ]
  },
  {
   "cell_type": "markdown",
   "id": "afffe5e1",
   "metadata": {},
   "source": [
    "## Top animes based on ratings"
   ]
  },
  {
   "cell_type": "code",
   "execution_count": 211,
   "id": "989767c1",
   "metadata": {},
   "outputs": [
    {
     "data": {
      "application/vnd.microsoft.datawrangler.viewer.v0+json": {
       "columns": [
        {
         "name": "name",
         "rawType": "object",
         "type": "string"
        },
        {
         "name": "anime_id",
         "rawType": "int64",
         "type": "integer"
        },
        {
         "name": "name",
         "rawType": "object",
         "type": "string"
        },
        {
         "name": "genre",
         "rawType": "object",
         "type": "string"
        },
        {
         "name": "type",
         "rawType": "object",
         "type": "string"
        },
        {
         "name": "episodes",
         "rawType": "object",
         "type": "string"
        },
        {
         "name": "rating",
         "rawType": "float64",
         "type": "float"
        },
        {
         "name": "members",
         "rawType": "int64",
         "type": "integer"
        },
        {
         "name": "user_id",
         "rawType": "int64",
         "type": "integer"
        },
        {
         "name": "user_rating",
         "rawType": "int64",
         "type": "integer"
        }
       ],
       "conversionMethod": "pd.DataFrame",
       "ref": "a6735709-5e39-4a70-9da2-3659cf804a34",
       "rows": [
        [
         "Mogura no Motoro",
         "23005",
         "Mogura no Motoro",
         "Slice of Life",
         "Movie",
         "1",
         "9.5",
         "62",
         "48766",
         "-1"
        ],
        [
         "Kimi no Na wa.",
         "32281",
         "Kimi no Na wa.",
         "Drama, Romance, School, Supernatural",
         "Movie",
         "1",
         "9.37",
         "200630",
         "99",
         "5"
        ],
        [
         "Fullmetal Alchemist: Brotherhood",
         "5114",
         "Fullmetal Alchemist: Brotherhood",
         "Action, Adventure, Drama, Fantasy, Magic, Military, Shounen",
         "TV",
         "64",
         "9.26",
         "793665",
         "3",
         "10"
        ],
        [
         "Gintama°",
         "28977",
         "Gintama°",
         "Action, Comedy, Historical, Parody, Samurai, Sci-Fi, Shounen",
         "TV",
         "51",
         "9.25",
         "114262",
         "39",
         "-1"
        ],
        [
         "Yakusoku: Africa Mizu to Midori",
         "26313",
         "Yakusoku: Africa Mizu to Midori",
         "Drama, Kids",
         "OVA",
         "1",
         "9.25",
         "53",
         "48766",
         "-1"
        ],
        [
         "Steins;Gate",
         "9253",
         "Steins;Gate",
         "Sci-Fi, Thriller",
         "TV",
         "24",
         "9.17",
         "673572",
         "5",
         "9"
        ],
        [
         "Gintama&#039;",
         "9969",
         "Gintama&#039;",
         "Action, Comedy, Historical, Parody, Samurai, Sci-Fi, Shounen",
         "TV",
         "51",
         "9.16",
         "151266",
         "5",
         "9"
        ],
        [
         "Haikyuu!!: Karasuno Koukou VS Shiratorizawa Gakuen Koukou",
         "32935",
         "Haikyuu!!: Karasuno Koukou VS Shiratorizawa Gakuen Koukou",
         "Comedy, Drama, School, Shounen, Sports",
         "TV",
         "10",
         "9.15",
         "93351",
         "17",
         "9"
        ],
        [
         "Hunter x Hunter (2011)",
         "11061",
         "Hunter x Hunter (2011)",
         "Action, Adventure, Shounen, Super Power",
         "TV",
         "148",
         "9.13",
         "425855",
         "7",
         "9"
        ],
        [
         "Ginga Eiyuu Densetsu",
         "820",
         "Ginga Eiyuu Densetsu",
         "Drama, Military, Sci-Fi, Space",
         "OVA",
         "110",
         "9.11",
         "80679",
         "183",
         "10"
        ],
        [
         "Gintama&#039;: Enchousen",
         "15417",
         "Gintama&#039;: Enchousen",
         "Action, Comedy, Historical, Parody, Samurai, Sci-Fi, Shounen",
         "TV",
         "13",
         "9.11",
         "81109",
         "5",
         "8"
        ],
        [
         "Gintama Movie: Kanketsu-hen - Yorozuya yo Eien Nare",
         "15335",
         "Gintama Movie: Kanketsu-hen - Yorozuya yo Eien Nare",
         "Action, Comedy, Historical, Parody, Samurai, Sci-Fi, Shounen",
         "Movie",
         "1",
         "9.1",
         "72534",
         "5",
         "10"
        ],
        [
         "Clannad: After Story",
         "4181",
         "Clannad: After Story",
         "Drama, Fantasy, Romance, Slice of Life, Supernatural",
         "TV",
         "24",
         "9.06",
         "456749",
         "7",
         "9"
        ],
        [
         "Koe no Katachi",
         "28851",
         "Koe no Katachi",
         "Drama, School, Shounen",
         "Movie",
         "1",
         "9.05",
         "102733",
         "2378",
         "8"
        ]
       ],
       "shape": {
        "columns": 9,
        "rows": 14
       }
      },
      "text/html": [
       "<div>\n",
       "<style scoped>\n",
       "    .dataframe tbody tr th:only-of-type {\n",
       "        vertical-align: middle;\n",
       "    }\n",
       "\n",
       "    .dataframe tbody tr th {\n",
       "        vertical-align: top;\n",
       "    }\n",
       "\n",
       "    .dataframe thead th {\n",
       "        text-align: right;\n",
       "    }\n",
       "</style>\n",
       "<table border=\"1\" class=\"dataframe\">\n",
       "  <thead>\n",
       "    <tr style=\"text-align: right;\">\n",
       "      <th></th>\n",
       "      <th>anime_id</th>\n",
       "      <th>name</th>\n",
       "      <th>genre</th>\n",
       "      <th>type</th>\n",
       "      <th>episodes</th>\n",
       "      <th>rating</th>\n",
       "      <th>members</th>\n",
       "      <th>user_id</th>\n",
       "      <th>user_rating</th>\n",
       "    </tr>\n",
       "    <tr>\n",
       "      <th>name</th>\n",
       "      <th></th>\n",
       "      <th></th>\n",
       "      <th></th>\n",
       "      <th></th>\n",
       "      <th></th>\n",
       "      <th></th>\n",
       "      <th></th>\n",
       "      <th></th>\n",
       "      <th></th>\n",
       "    </tr>\n",
       "  </thead>\n",
       "  <tbody>\n",
       "    <tr>\n",
       "      <th>Mogura no Motoro</th>\n",
       "      <td>23005</td>\n",
       "      <td>Mogura no Motoro</td>\n",
       "      <td>Slice of Life</td>\n",
       "      <td>Movie</td>\n",
       "      <td>1</td>\n",
       "      <td>9.50</td>\n",
       "      <td>62</td>\n",
       "      <td>48766</td>\n",
       "      <td>-1</td>\n",
       "    </tr>\n",
       "    <tr>\n",
       "      <th>Kimi no Na wa.</th>\n",
       "      <td>32281</td>\n",
       "      <td>Kimi no Na wa.</td>\n",
       "      <td>Drama, Romance, School, Supernatural</td>\n",
       "      <td>Movie</td>\n",
       "      <td>1</td>\n",
       "      <td>9.37</td>\n",
       "      <td>200630</td>\n",
       "      <td>99</td>\n",
       "      <td>5</td>\n",
       "    </tr>\n",
       "    <tr>\n",
       "      <th>Fullmetal Alchemist: Brotherhood</th>\n",
       "      <td>5114</td>\n",
       "      <td>Fullmetal Alchemist: Brotherhood</td>\n",
       "      <td>Action, Adventure, Drama, Fantasy, Magic, Mili...</td>\n",
       "      <td>TV</td>\n",
       "      <td>64</td>\n",
       "      <td>9.26</td>\n",
       "      <td>793665</td>\n",
       "      <td>3</td>\n",
       "      <td>10</td>\n",
       "    </tr>\n",
       "    <tr>\n",
       "      <th>Gintama°</th>\n",
       "      <td>28977</td>\n",
       "      <td>Gintama°</td>\n",
       "      <td>Action, Comedy, Historical, Parody, Samurai, S...</td>\n",
       "      <td>TV</td>\n",
       "      <td>51</td>\n",
       "      <td>9.25</td>\n",
       "      <td>114262</td>\n",
       "      <td>39</td>\n",
       "      <td>-1</td>\n",
       "    </tr>\n",
       "    <tr>\n",
       "      <th>Yakusoku: Africa Mizu to Midori</th>\n",
       "      <td>26313</td>\n",
       "      <td>Yakusoku: Africa Mizu to Midori</td>\n",
       "      <td>Drama, Kids</td>\n",
       "      <td>OVA</td>\n",
       "      <td>1</td>\n",
       "      <td>9.25</td>\n",
       "      <td>53</td>\n",
       "      <td>48766</td>\n",
       "      <td>-1</td>\n",
       "    </tr>\n",
       "    <tr>\n",
       "      <th>Steins;Gate</th>\n",
       "      <td>9253</td>\n",
       "      <td>Steins;Gate</td>\n",
       "      <td>Sci-Fi, Thriller</td>\n",
       "      <td>TV</td>\n",
       "      <td>24</td>\n",
       "      <td>9.17</td>\n",
       "      <td>673572</td>\n",
       "      <td>5</td>\n",
       "      <td>9</td>\n",
       "    </tr>\n",
       "    <tr>\n",
       "      <th>Gintama&amp;#039;</th>\n",
       "      <td>9969</td>\n",
       "      <td>Gintama&amp;#039;</td>\n",
       "      <td>Action, Comedy, Historical, Parody, Samurai, S...</td>\n",
       "      <td>TV</td>\n",
       "      <td>51</td>\n",
       "      <td>9.16</td>\n",
       "      <td>151266</td>\n",
       "      <td>5</td>\n",
       "      <td>9</td>\n",
       "    </tr>\n",
       "    <tr>\n",
       "      <th>Haikyuu!!: Karasuno Koukou VS Shiratorizawa Gakuen Koukou</th>\n",
       "      <td>32935</td>\n",
       "      <td>Haikyuu!!: Karasuno Koukou VS Shiratorizawa Ga...</td>\n",
       "      <td>Comedy, Drama, School, Shounen, Sports</td>\n",
       "      <td>TV</td>\n",
       "      <td>10</td>\n",
       "      <td>9.15</td>\n",
       "      <td>93351</td>\n",
       "      <td>17</td>\n",
       "      <td>9</td>\n",
       "    </tr>\n",
       "    <tr>\n",
       "      <th>Hunter x Hunter (2011)</th>\n",
       "      <td>11061</td>\n",
       "      <td>Hunter x Hunter (2011)</td>\n",
       "      <td>Action, Adventure, Shounen, Super Power</td>\n",
       "      <td>TV</td>\n",
       "      <td>148</td>\n",
       "      <td>9.13</td>\n",
       "      <td>425855</td>\n",
       "      <td>7</td>\n",
       "      <td>9</td>\n",
       "    </tr>\n",
       "    <tr>\n",
       "      <th>Ginga Eiyuu Densetsu</th>\n",
       "      <td>820</td>\n",
       "      <td>Ginga Eiyuu Densetsu</td>\n",
       "      <td>Drama, Military, Sci-Fi, Space</td>\n",
       "      <td>OVA</td>\n",
       "      <td>110</td>\n",
       "      <td>9.11</td>\n",
       "      <td>80679</td>\n",
       "      <td>183</td>\n",
       "      <td>10</td>\n",
       "    </tr>\n",
       "    <tr>\n",
       "      <th>Gintama&amp;#039;: Enchousen</th>\n",
       "      <td>15417</td>\n",
       "      <td>Gintama&amp;#039;: Enchousen</td>\n",
       "      <td>Action, Comedy, Historical, Parody, Samurai, S...</td>\n",
       "      <td>TV</td>\n",
       "      <td>13</td>\n",
       "      <td>9.11</td>\n",
       "      <td>81109</td>\n",
       "      <td>5</td>\n",
       "      <td>8</td>\n",
       "    </tr>\n",
       "    <tr>\n",
       "      <th>Gintama Movie: Kanketsu-hen - Yorozuya yo Eien Nare</th>\n",
       "      <td>15335</td>\n",
       "      <td>Gintama Movie: Kanketsu-hen - Yorozuya yo Eien...</td>\n",
       "      <td>Action, Comedy, Historical, Parody, Samurai, S...</td>\n",
       "      <td>Movie</td>\n",
       "      <td>1</td>\n",
       "      <td>9.10</td>\n",
       "      <td>72534</td>\n",
       "      <td>5</td>\n",
       "      <td>10</td>\n",
       "    </tr>\n",
       "    <tr>\n",
       "      <th>Clannad: After Story</th>\n",
       "      <td>4181</td>\n",
       "      <td>Clannad: After Story</td>\n",
       "      <td>Drama, Fantasy, Romance, Slice of Life, Supern...</td>\n",
       "      <td>TV</td>\n",
       "      <td>24</td>\n",
       "      <td>9.06</td>\n",
       "      <td>456749</td>\n",
       "      <td>7</td>\n",
       "      <td>9</td>\n",
       "    </tr>\n",
       "    <tr>\n",
       "      <th>Koe no Katachi</th>\n",
       "      <td>28851</td>\n",
       "      <td>Koe no Katachi</td>\n",
       "      <td>Drama, School, Shounen</td>\n",
       "      <td>Movie</td>\n",
       "      <td>1</td>\n",
       "      <td>9.05</td>\n",
       "      <td>102733</td>\n",
       "      <td>2378</td>\n",
       "      <td>8</td>\n",
       "    </tr>\n",
       "  </tbody>\n",
       "</table>\n",
       "</div>"
      ],
      "text/plain": [
       "                                                    anime_id  \\\n",
       "name                                                           \n",
       "Mogura no Motoro                                       23005   \n",
       "Kimi no Na wa.                                         32281   \n",
       "Fullmetal Alchemist: Brotherhood                        5114   \n",
       "Gintama°                                               28977   \n",
       "Yakusoku: Africa Mizu to Midori                        26313   \n",
       "Steins;Gate                                             9253   \n",
       "Gintama&#039;                                           9969   \n",
       "Haikyuu!!: Karasuno Koukou VS Shiratorizawa Gak...     32935   \n",
       "Hunter x Hunter (2011)                                 11061   \n",
       "Ginga Eiyuu Densetsu                                     820   \n",
       "Gintama&#039;: Enchousen                               15417   \n",
       "Gintama Movie: Kanketsu-hen - Yorozuya yo Eien ...     15335   \n",
       "Clannad: After Story                                    4181   \n",
       "Koe no Katachi                                         28851   \n",
       "\n",
       "                                                                                                 name  \\\n",
       "name                                                                                                    \n",
       "Mogura no Motoro                                                                     Mogura no Motoro   \n",
       "Kimi no Na wa.                                                                         Kimi no Na wa.   \n",
       "Fullmetal Alchemist: Brotherhood                                     Fullmetal Alchemist: Brotherhood   \n",
       "Gintama°                                                                                     Gintama°   \n",
       "Yakusoku: Africa Mizu to Midori                                       Yakusoku: Africa Mizu to Midori   \n",
       "Steins;Gate                                                                               Steins;Gate   \n",
       "Gintama&#039;                                                                           Gintama&#039;   \n",
       "Haikyuu!!: Karasuno Koukou VS Shiratorizawa Gak...  Haikyuu!!: Karasuno Koukou VS Shiratorizawa Ga...   \n",
       "Hunter x Hunter (2011)                                                         Hunter x Hunter (2011)   \n",
       "Ginga Eiyuu Densetsu                                                             Ginga Eiyuu Densetsu   \n",
       "Gintama&#039;: Enchousen                                                     Gintama&#039;: Enchousen   \n",
       "Gintama Movie: Kanketsu-hen - Yorozuya yo Eien ...  Gintama Movie: Kanketsu-hen - Yorozuya yo Eien...   \n",
       "Clannad: After Story                                                             Clannad: After Story   \n",
       "Koe no Katachi                                                                         Koe no Katachi   \n",
       "\n",
       "                                                                                                genre  \\\n",
       "name                                                                                                    \n",
       "Mogura no Motoro                                                                        Slice of Life   \n",
       "Kimi no Na wa.                                                   Drama, Romance, School, Supernatural   \n",
       "Fullmetal Alchemist: Brotherhood                    Action, Adventure, Drama, Fantasy, Magic, Mili...   \n",
       "Gintama°                                            Action, Comedy, Historical, Parody, Samurai, S...   \n",
       "Yakusoku: Africa Mizu to Midori                                                           Drama, Kids   \n",
       "Steins;Gate                                                                          Sci-Fi, Thriller   \n",
       "Gintama&#039;                                       Action, Comedy, Historical, Parody, Samurai, S...   \n",
       "Haikyuu!!: Karasuno Koukou VS Shiratorizawa Gak...             Comedy, Drama, School, Shounen, Sports   \n",
       "Hunter x Hunter (2011)                                        Action, Adventure, Shounen, Super Power   \n",
       "Ginga Eiyuu Densetsu                                                   Drama, Military, Sci-Fi, Space   \n",
       "Gintama&#039;: Enchousen                            Action, Comedy, Historical, Parody, Samurai, S...   \n",
       "Gintama Movie: Kanketsu-hen - Yorozuya yo Eien ...  Action, Comedy, Historical, Parody, Samurai, S...   \n",
       "Clannad: After Story                                Drama, Fantasy, Romance, Slice of Life, Supern...   \n",
       "Koe no Katachi                                                                 Drama, School, Shounen   \n",
       "\n",
       "                                                     type episodes  rating  \\\n",
       "name                                                                         \n",
       "Mogura no Motoro                                    Movie        1    9.50   \n",
       "Kimi no Na wa.                                      Movie        1    9.37   \n",
       "Fullmetal Alchemist: Brotherhood                       TV       64    9.26   \n",
       "Gintama°                                               TV       51    9.25   \n",
       "Yakusoku: Africa Mizu to Midori                       OVA        1    9.25   \n",
       "Steins;Gate                                            TV       24    9.17   \n",
       "Gintama&#039;                                          TV       51    9.16   \n",
       "Haikyuu!!: Karasuno Koukou VS Shiratorizawa Gak...     TV       10    9.15   \n",
       "Hunter x Hunter (2011)                                 TV      148    9.13   \n",
       "Ginga Eiyuu Densetsu                                  OVA      110    9.11   \n",
       "Gintama&#039;: Enchousen                               TV       13    9.11   \n",
       "Gintama Movie: Kanketsu-hen - Yorozuya yo Eien ...  Movie        1    9.10   \n",
       "Clannad: After Story                                   TV       24    9.06   \n",
       "Koe no Katachi                                      Movie        1    9.05   \n",
       "\n",
       "                                                    members  user_id  \\\n",
       "name                                                                   \n",
       "Mogura no Motoro                                         62    48766   \n",
       "Kimi no Na wa.                                       200630       99   \n",
       "Fullmetal Alchemist: Brotherhood                     793665        3   \n",
       "Gintama°                                             114262       39   \n",
       "Yakusoku: Africa Mizu to Midori                          53    48766   \n",
       "Steins;Gate                                          673572        5   \n",
       "Gintama&#039;                                        151266        5   \n",
       "Haikyuu!!: Karasuno Koukou VS Shiratorizawa Gak...    93351       17   \n",
       "Hunter x Hunter (2011)                               425855        7   \n",
       "Ginga Eiyuu Densetsu                                  80679      183   \n",
       "Gintama&#039;: Enchousen                              81109        5   \n",
       "Gintama Movie: Kanketsu-hen - Yorozuya yo Eien ...    72534        5   \n",
       "Clannad: After Story                                 456749        7   \n",
       "Koe no Katachi                                       102733     2378   \n",
       "\n",
       "                                                    user_rating  \n",
       "name                                                             \n",
       "Mogura no Motoro                                             -1  \n",
       "Kimi no Na wa.                                                5  \n",
       "Fullmetal Alchemist: Brotherhood                             10  \n",
       "Gintama°                                                     -1  \n",
       "Yakusoku: Africa Mizu to Midori                              -1  \n",
       "Steins;Gate                                                   9  \n",
       "Gintama&#039;                                                 9  \n",
       "Haikyuu!!: Karasuno Koukou VS Shiratorizawa Gak...            9  \n",
       "Hunter x Hunter (2011)                                        9  \n",
       "Ginga Eiyuu Densetsu                                         10  \n",
       "Gintama&#039;: Enchousen                                      8  \n",
       "Gintama Movie: Kanketsu-hen - Yorozuya yo Eien ...           10  \n",
       "Clannad: After Story                                          9  \n",
       "Koe no Katachi                                                8  "
      ]
     },
     "execution_count": 211,
     "metadata": {},
     "output_type": "execute_result"
    }
   ],
   "source": [
    "df_top_by_rating = df_uniques.nlargest(14, 'rating').set_index('name', drop=False)\n",
    "df_top_by_rating"
   ]
  },
  {
   "cell_type": "code",
   "execution_count": 218,
   "id": "5415ec8a",
   "metadata": {},
   "outputs": [
    {
     "data": {
      "image/png": "[encoded data removed]",
      "text/plain": [
       "<Figure size 1200x600 with 1 Axes>"
      ]
     },
     "metadata": {},
     "output_type": "display_data"
    }
   ],
   "source": [
    "plt.figure(figsize=(12,6))\n",
    "ax = sns.barplot(data=df_top_by_rating, x='name', y='rating', width=0.7)\n",
    "\n",
    "for bar in ax.patches:\n",
    "    height = bar.get_height()\n",
    "    x = bar.get_x() + bar.get_width() / 2\n",
    "    ax.text(x, height * 0.5, f\"{height:,}\", ha='center', va='bottom', fontsize=10, color='#fff', fontweight='bold')\n",
    "\n",
    "plt.xticks(rotation=90)\n",
    "plt.title('Top animes based on ratings', fontweight='bold', fontsize='14')\n",
    "plt.xlabel('\\nAnime name', fontweight='semibold', fontsize='12')\n",
    "plt.ylabel('Average rating\\n', fontweight='semibold', fontsize='12')\n",
    "plt.show()"
   ]
  },
  {
   "cell_type": "code",
   "execution_count": null,
   "id": "4a3723ee",
   "metadata": {},
   "outputs": [],
   "source": []
  }
 ],
 "metadata": {
  "kernelspec": {
   "display_name": "anime_recommendation_env",
   "language": "python",
   "name": "python3"
  },
  "language_info": {
   "codemirror_mode": {
    "name": "ipython",
    "version": 3
   },
   "file_extension": ".py",
   "mimetype": "text/x-python",
   "name": "python",
   "nbconvert_exporter": "python",
   "pygments_lexer": "ipython3",
   "version": "3.13.3"
  }
 },
 "nbformat": 4,
 "nbformat_minor": 5
}
